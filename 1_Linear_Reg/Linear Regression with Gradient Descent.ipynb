{
 "cells": [
  {
   "cell_type": "markdown",
   "metadata": {},
   "source": [
    "# Linear Regression with Gradient Descent from scratch\n",
    "### Jaeho Kim    kjh3690@unist.ac.kr"
   ]
  },
  {
   "cell_type": "code",
   "execution_count": 244,
   "metadata": {},
   "outputs": [],
   "source": [
    "#import necessary modules\n",
    "import numpy as np\n",
    "import matplotlib.pyplot as plt\n",
    "import pandas as pd\n",
    "import os\n",
    "import random\n",
    "import time\n",
    "%matplotlib inline"
   ]
  },
  {
   "cell_type": "markdown",
   "metadata": {},
   "source": [
    "**we will use the wine quality data for implementation**"
   ]
  },
  {
   "cell_type": "code",
   "execution_count": 245,
   "metadata": {},
   "outputs": [],
   "source": [
    "# load wine-quality csv file\n",
    "Data_dir='/nipa/jaeho3690/7_CS229/0_DATA/winequality-red.csv'\n",
    "df= pd.read_csv(Data_dir,delimiter=';',dtype=float)"
   ]
  },
  {
   "cell_type": "code",
   "execution_count": 246,
   "metadata": {
    "scrolled": true
   },
   "outputs": [
    {
     "data": {
      "text/html": [
       "<div>\n",
       "<style scoped>\n",
       "    .dataframe tbody tr th:only-of-type {\n",
       "        vertical-align: middle;\n",
       "    }\n",
       "\n",
       "    .dataframe tbody tr th {\n",
       "        vertical-align: top;\n",
       "    }\n",
       "\n",
       "    .dataframe thead th {\n",
       "        text-align: right;\n",
       "    }\n",
       "</style>\n",
       "<table border=\"1\" class=\"dataframe\">\n",
       "  <thead>\n",
       "    <tr style=\"text-align: right;\">\n",
       "      <th></th>\n",
       "      <th>fixed acidity</th>\n",
       "      <th>volatile acidity</th>\n",
       "      <th>citric acid</th>\n",
       "      <th>residual sugar</th>\n",
       "      <th>chlorides</th>\n",
       "      <th>free sulfur dioxide</th>\n",
       "      <th>total sulfur dioxide</th>\n",
       "      <th>density</th>\n",
       "      <th>pH</th>\n",
       "      <th>sulphates</th>\n",
       "      <th>alcohol</th>\n",
       "      <th>quality</th>\n",
       "    </tr>\n",
       "  </thead>\n",
       "  <tbody>\n",
       "    <tr>\n",
       "      <th>0</th>\n",
       "      <td>7.4</td>\n",
       "      <td>0.70</td>\n",
       "      <td>0.00</td>\n",
       "      <td>1.9</td>\n",
       "      <td>0.076</td>\n",
       "      <td>11.0</td>\n",
       "      <td>34.0</td>\n",
       "      <td>0.9978</td>\n",
       "      <td>3.51</td>\n",
       "      <td>0.56</td>\n",
       "      <td>9.4</td>\n",
       "      <td>5.0</td>\n",
       "    </tr>\n",
       "    <tr>\n",
       "      <th>1</th>\n",
       "      <td>7.8</td>\n",
       "      <td>0.88</td>\n",
       "      <td>0.00</td>\n",
       "      <td>2.6</td>\n",
       "      <td>0.098</td>\n",
       "      <td>25.0</td>\n",
       "      <td>67.0</td>\n",
       "      <td>0.9968</td>\n",
       "      <td>3.20</td>\n",
       "      <td>0.68</td>\n",
       "      <td>9.8</td>\n",
       "      <td>5.0</td>\n",
       "    </tr>\n",
       "    <tr>\n",
       "      <th>2</th>\n",
       "      <td>7.8</td>\n",
       "      <td>0.76</td>\n",
       "      <td>0.04</td>\n",
       "      <td>2.3</td>\n",
       "      <td>0.092</td>\n",
       "      <td>15.0</td>\n",
       "      <td>54.0</td>\n",
       "      <td>0.9970</td>\n",
       "      <td>3.26</td>\n",
       "      <td>0.65</td>\n",
       "      <td>9.8</td>\n",
       "      <td>5.0</td>\n",
       "    </tr>\n",
       "    <tr>\n",
       "      <th>3</th>\n",
       "      <td>11.2</td>\n",
       "      <td>0.28</td>\n",
       "      <td>0.56</td>\n",
       "      <td>1.9</td>\n",
       "      <td>0.075</td>\n",
       "      <td>17.0</td>\n",
       "      <td>60.0</td>\n",
       "      <td>0.9980</td>\n",
       "      <td>3.16</td>\n",
       "      <td>0.58</td>\n",
       "      <td>9.8</td>\n",
       "      <td>6.0</td>\n",
       "    </tr>\n",
       "    <tr>\n",
       "      <th>4</th>\n",
       "      <td>7.4</td>\n",
       "      <td>0.70</td>\n",
       "      <td>0.00</td>\n",
       "      <td>1.9</td>\n",
       "      <td>0.076</td>\n",
       "      <td>11.0</td>\n",
       "      <td>34.0</td>\n",
       "      <td>0.9978</td>\n",
       "      <td>3.51</td>\n",
       "      <td>0.56</td>\n",
       "      <td>9.4</td>\n",
       "      <td>5.0</td>\n",
       "    </tr>\n",
       "  </tbody>\n",
       "</table>\n",
       "</div>"
      ],
      "text/plain": [
       "   fixed acidity  volatile acidity  citric acid  residual sugar  chlorides  \\\n",
       "0            7.4              0.70         0.00             1.9      0.076   \n",
       "1            7.8              0.88         0.00             2.6      0.098   \n",
       "2            7.8              0.76         0.04             2.3      0.092   \n",
       "3           11.2              0.28         0.56             1.9      0.075   \n",
       "4            7.4              0.70         0.00             1.9      0.076   \n",
       "\n",
       "   free sulfur dioxide  total sulfur dioxide  density    pH  sulphates  \\\n",
       "0                 11.0                  34.0   0.9978  3.51       0.56   \n",
       "1                 25.0                  67.0   0.9968  3.20       0.68   \n",
       "2                 15.0                  54.0   0.9970  3.26       0.65   \n",
       "3                 17.0                  60.0   0.9980  3.16       0.58   \n",
       "4                 11.0                  34.0   0.9978  3.51       0.56   \n",
       "\n",
       "   alcohol  quality  \n",
       "0      9.4      5.0  \n",
       "1      9.8      5.0  \n",
       "2      9.8      5.0  \n",
       "3      9.8      6.0  \n",
       "4      9.4      5.0  "
      ]
     },
     "execution_count": 246,
     "metadata": {},
     "output_type": "execute_result"
    }
   ],
   "source": [
    "df.head()"
   ]
  },
  {
   "cell_type": "code",
   "execution_count": 247,
   "metadata": {},
   "outputs": [],
   "source": [
    "#Split the data set into predictors and response\n",
    "train_x= df.iloc[:1300,:-1]\n",
    "train_y= df.iloc[:1300,-1]\n",
    "test_x= df.iloc[1300:,:-1]\n",
    "test_y= df.iloc[1300:,-1]"
   ]
  },
  {
   "cell_type": "markdown",
   "metadata": {},
   "source": [
    "**We will need a function that predicts y value using the coefficients and x. This will be used to calculate the error**"
   ]
  },
  {
   "cell_type": "code",
   "execution_count": 248,
   "metadata": {},
   "outputs": [],
   "source": [
    "def predict(coef,x):\n",
    "    \"\"\"Gives prediction of y using linear regression given coefficients and x.\n",
    "    \n",
    "    Args:\n",
    "        coef: list of coefficents including bias\n",
    "        x: list of input data x\n",
    "        \n",
    "    Returns:\n",
    "        y_hat: predicted y value\n",
    "    \n",
    "    Raises:\n",
    "        AssertionError: length of coef should be bigger by 1 than x because of bias \n",
    "    \"\"\"\n",
    "    assert len(x)+1== len(coef), \"len(coef) should be bigger than x due to bias term\"\n",
    "    y_hat= coef[0]\n",
    "    \n",
    "    for i in range(len(x)):\n",
    "        y_hat+= x[i]*coef[i+1]\n",
    "        \n",
    "    return y_hat"
   ]
  },
  {
   "cell_type": "code",
   "execution_count": 249,
   "metadata": {},
   "outputs": [],
   "source": [
    "coef=[1,3,2,3]\n",
    "x=[-3,-3,-4]"
   ]
  },
  {
   "cell_type": "code",
   "execution_count": 250,
   "metadata": {
    "scrolled": true
   },
   "outputs": [
    {
     "data": {
      "text/plain": [
       "-26"
      ]
     },
     "execution_count": 250,
     "metadata": {},
     "output_type": "execute_result"
    }
   ],
   "source": [
    "predict(coef,x)"
   ]
  },
  {
   "cell_type": "markdown",
   "metadata": {},
   "source": [
    "# 1. Stochastic Gradient Descent Update"
   ]
  },
  {
   "cell_type": "code",
   "execution_count": 251,
   "metadata": {},
   "outputs": [],
   "source": [
    "learning_rate= 0.0001\n",
    "n_epochs=1000"
   ]
  },
  {
   "cell_type": "markdown",
   "metadata": {},
   "source": [
    "**If we set the learning rate bigger, the algorithm diverges.**"
   ]
  },
  {
   "cell_type": "code",
   "execution_count": 252,
   "metadata": {},
   "outputs": [],
   "source": [
    "def fit_SGD_update(train_x,train_y,learning_rate=0.0001,n_epochs=1000):\n",
    "    \"\"\"The Least Mean Square updates using stochastic gradient descent.\n",
    "    \n",
    "    Args:\n",
    "        train_x: df of predictors\n",
    "        train_y: df of response\n",
    "        learning_rate: learning rate of updates\n",
    "        n_epochs: number of iterations for SGD\n",
    "        \n",
    "    Returns:\n",
    "        coefs: coefficents of linear regression \n",
    "        sum_of_square_error: square of errors\n",
    "    \n",
    "    \"\"\"\n",
    "    start_time= time.time()\n",
    "    coefs= [random.randrange(1, 50, 1) for i in range(len(train_x.columns)+1)] \n",
    "    sum_of_square_error=[]\n",
    "    print(\"Initial setting of coefficient are :\",coefs)\n",
    "    print(\"-\"*80)\n",
    "    for epoch in range(n_epochs):\n",
    "        for row in range(len(train_x)):\n",
    "            for coef in range(len(coefs)):\n",
    "                error= train_y[row]-predict(coefs,list(train_x.iloc[row,:]))\n",
    "                #The bias term doesn't have x. We have to take this in consideration\n",
    "                if coef==0:\n",
    "                    coefs[coef]+= learning_rate *error\n",
    "                else:\n",
    "                    coefs[coef]+= learning_rate *error * train_x.iloc[row,coef-1]\n",
    "\n",
    "\n",
    "        #After Every Epoch we will calculate the sum of square:\n",
    "        error_sum=0\n",
    "        for row in range(len(train_x)):\n",
    "            error_sum+= (train_y[row]- predict(coefs,list(train_x.iloc[row,:])))**2\n",
    "        sum_of_square_error.append(error_sum)\n",
    "        if epoch%50==0:\n",
    "            print(\"Sum of square error is {0} for epoch {1}\".format(error_sum,epoch)) \n",
    "    duration= (time.time()- start_time)/60\n",
    "    print(\"The algorithm took {} minutes to run\".format(duration))\n",
    "    return coefs,sum_of_square_error"
   ]
  },
  {
   "cell_type": "code",
   "execution_count": 253,
   "metadata": {
    "scrolled": false
   },
   "outputs": [
    {
     "name": "stdout",
     "output_type": "stream",
     "text": [
      "Initial setting of coefficient are : [40, 1, 43, 47, 10, 37, 34, 30, 8, 2, 14, 3]\n",
      "--------------------------------------------------------------------------------\n",
      "Sum of square error is 1046156.1191418559 for epoch 0\n",
      "Sum of square error is 115962.9762078562 for epoch 50\n",
      "Sum of square error is 80281.0635107808 for epoch 100\n",
      "Sum of square error is 64479.874297147646 for epoch 150\n",
      "Sum of square error is 54776.833172272156 for epoch 200\n",
      "Sum of square error is 47561.825146245006 for epoch 250\n",
      "Sum of square error is 41714.1094981337 for epoch 300\n",
      "Sum of square error is 36795.94438921576 for epoch 350\n",
      "Sum of square error is 32589.234792213116 for epoch 400\n",
      "Sum of square error is 28960.775635050657 for epoch 450\n",
      "Sum of square error is 25816.746156040866 for epoch 500\n",
      "Sum of square error is 23084.9210492911 for epoch 550\n",
      "Sum of square error is 20706.751160778844 for epoch 600\n",
      "Sum of square error is 18633.38685996032 for epoch 650\n",
      "Sum of square error is 16823.42499156348 for epoch 700\n",
      "Sum of square error is 15241.471756411596 for epoch 750\n",
      "Sum of square error is 13857.12656940177 for epoch 800\n",
      "Sum of square error is 12644.206125746065 for epoch 850\n",
      "Sum of square error is 11580.12126058334 for epoch 900\n",
      "Sum of square error is 10645.361192905011 for epoch 950\n",
      "The algorithm took 43.950511697928114 minutes to run\n"
     ]
    }
   ],
   "source": [
    "coefs,sse=fit_SGD_update(train_x,train_y)"
   ]
  },
  {
   "cell_type": "code",
   "execution_count": 254,
   "metadata": {
    "scrolled": true
   },
   "outputs": [
    {
     "data": {
      "text/plain": [
       "[<matplotlib.lines.Line2D at 0x7fab1c115e80>]"
      ]
     },
     "execution_count": 254,
     "metadata": {},
     "output_type": "execute_result"
    },
    {
     "data": {
      "image/png": "[encoded data removed]",
      "text/plain": [
       "<Figure size 432x288 with 1 Axes>"
      ]
     },
     "metadata": {
      "needs_background": "light"
     },
     "output_type": "display_data"
    }
   ],
   "source": [
    "plt.title(\"Sum of square error with epoch {}\".format(n_epochs))\n",
    "plt.xlabel(\"Epochs\")\n",
    "plt.ylabel(\"Sum of square error\")\n",
    "plt.plot(sse)"
   ]
  },
  {
   "cell_type": "code",
   "execution_count": 255,
   "metadata": {
    "scrolled": true
   },
   "outputs": [
    {
     "data": {
      "text/plain": [
       "4.026995413376814"
      ]
     },
     "execution_count": 255,
     "metadata": {},
     "output_type": "execute_result"
    }
   ],
   "source": [
    "predict(coefs,list(test_x.iloc[0,:]))"
   ]
  },
  {
   "cell_type": "code",
   "execution_count": 256,
   "metadata": {},
   "outputs": [
    {
     "data": {
      "text/plain": [
       "[26.9535365054063,\n",
       " -1.3995297110905407,\n",
       " 7.261350197179469,\n",
       " 13.312278574688023,\n",
       " -0.17565640246276562,\n",
       " 19.157229175506895,\n",
       " 0.02906160634271056,\n",
       " -0.04005600580669356,\n",
       " 4.644113168435324,\n",
       " -7.451746607838896,\n",
       " -1.444117748581172,\n",
       " 0.2902713305766749]"
      ]
     },
     "execution_count": 256,
     "metadata": {},
     "output_type": "execute_result"
    }
   ],
   "source": [
    "coefs"
   ]
  },
  {
   "cell_type": "code",
   "execution_count": 257,
   "metadata": {},
   "outputs": [
    {
     "data": {
      "text/plain": [
       "fixed acidity            5.20000\n",
       "volatile acidity         0.64500\n",
       "citric acid              0.00000\n",
       "residual sugar           2.15000\n",
       "chlorides                0.08000\n",
       "free sulfur dioxide     15.00000\n",
       "total sulfur dioxide    28.00000\n",
       "density                  0.99444\n",
       "pH                       3.78000\n",
       "sulphates                0.61000\n",
       "alcohol                 12.50000\n",
       "Name: 1300, dtype: float64"
      ]
     },
     "execution_count": 257,
     "metadata": {},
     "output_type": "execute_result"
    }
   ],
   "source": [
    "test_x.iloc[0,:]"
   ]
  },
  {
   "cell_type": "code",
   "execution_count": 258,
   "metadata": {},
   "outputs": [
    {
     "data": {
      "text/plain": [
       "6.0"
      ]
     },
     "execution_count": 258,
     "metadata": {},
     "output_type": "execute_result"
    }
   ],
   "source": [
    "test_y.iloc[0]"
   ]
  },
  {
   "cell_type": "markdown",
   "metadata": {},
   "source": [
    "# 2. Batch Gradient Descent"
   ]
  },
  {
   "cell_type": "code",
   "execution_count": 259,
   "metadata": {},
   "outputs": [],
   "source": [
    "def Batch_update(train_x,train_y,learning_rate=0.00000001,n_epochs=1000):\n",
    "    \"\"\"The Least Mean Square updates using Batch gradient descent.\n",
    "    \n",
    "    Args:\n",
    "        train_x: df of predictors\n",
    "        train_y: df of response\n",
    "        learning_rate: learning rate of updates\n",
    "        n_epochs: number of iterations for SGD\n",
    "        \n",
    "    Returns:\n",
    "        coefs: coefficents of linear regression \n",
    "        sum_of_square_error: square of errors\n",
    "    \n",
    "    \"\"\"\n",
    "    start_time= time.time()\n",
    "    coefs= [random.randrange(1, 50, 1) for i in range(len(train_x.columns)+1)] \n",
    "    print(coefs)\n",
    "    sum_of_square_error=[]\n",
    "    \n",
    "    for epoch in range(n_epochs):\n",
    "        for coef in range(len(coefs)):\n",
    "            error_sum=0\n",
    "            for row in range(len(train_x)):\n",
    "                if coef==0:\n",
    "                    error_sum+= train_y[row]-predict(coefs,list(train_x.iloc[row,:]))\n",
    "                else:\n",
    "                    error_sum+= ((train_y[row]-predict(coefs,list(train_x.iloc[row,:])))*train_x.iloc[row,coef-1])  \n",
    "            coefs[coef]+= learning_rate * error_sum\n",
    "            \n",
    "        sum_of_square=0\n",
    "        for row in range(len(train_x)):\n",
    "            sum_of_square+= (train_y[row]- predict(coefs,list(train_x.iloc[row,:])))**2\n",
    "        sum_of_square_error.append(sum_of_square)\n",
    "        if epoch%50==0:\n",
    "            print(\"Sum of square error is {0} for epoch {1}\".format(sum_of_square,epoch)) \n",
    "    duration= (time.time()- start_time)/60\n",
    "    print(\"The algorithm took {} minutes to run\".format(duration))\n",
    "    return coefs,sum_of_square_error"
   ]
  },
  {
   "cell_type": "code",
   "execution_count": 260,
   "metadata": {
    "scrolled": false
   },
   "outputs": [
    {
     "name": "stdout",
     "output_type": "stream",
     "text": [
      "[9, 11, 23, 9, 17, 30, 30, 23, 26, 17, 2, 12]\n",
      "Sum of square error is 5489709775.67221 for epoch 0\n",
      "Sum of square error is 125905885.37444846 for epoch 50\n",
      "Sum of square error is 78177861.89551888 for epoch 100\n",
      "Sum of square error is 69341817.63069169 for epoch 150\n",
      "Sum of square error is 61729977.5520862 for epoch 200\n",
      "Sum of square error is 54963014.6431767 for epoch 250\n",
      "Sum of square error is 48945022.24837774 for epoch 300\n",
      "Sum of square error is 43592947.38235265 for epoch 350\n",
      "Sum of square error is 38833001.402890064 for epoch 400\n",
      "Sum of square error is 34599580.06041323 for epoch 450\n",
      "Sum of square error is 30834352.519585185 for epoch 500\n",
      "Sum of square error is 27485454.49515038 for epoch 550\n",
      "Sum of square error is 24506771.11902299 for epoch 600\n",
      "Sum of square error is 21857299.365686838 for epoch 650\n",
      "Sum of square error is 19500581.193746176 for epoch 700\n",
      "Sum of square error is 17404199.558353767 for epoch 750\n",
      "Sum of square error is 15539330.320759688 for epoch 800\n",
      "Sum of square error is 13880343.854883557 for epoch 850\n",
      "Sum of square error is 12404450.838563876 for epoch 900\n",
      "Sum of square error is 11091387.328588933 for epoch 950\n",
      "The algorithm took 43.77174927393595 minutes to run\n"
     ]
    }
   ],
   "source": [
    "coefs,SSE= Batch_update(train_x,train_y)"
   ]
  },
  {
   "cell_type": "code",
   "execution_count": 261,
   "metadata": {
    "scrolled": true
   },
   "outputs": [
    {
     "data": {
      "text/plain": [
       "[<matplotlib.lines.Line2D at 0x7fab1c103a58>]"
      ]
     },
     "execution_count": 261,
     "metadata": {},
     "output_type": "execute_result"
    },
    {
     "data": {
      "image/png": "[encoded data removed]",
      "text/plain": [
       "<Figure size 432x288 with 1 Axes>"
      ]
     },
     "metadata": {
      "needs_background": "light"
     },
     "output_type": "display_data"
    }
   ],
   "source": [
    "plt.title(\"Sum of square error with epoch {}\".format(n_epochs))\n",
    "plt.xlabel(\"Epochs\")\n",
    "plt.ylabel(\"Sum of square error\")\n",
    "plt.plot(SSE)"
   ]
  },
  {
   "cell_type": "code",
   "execution_count": 262,
   "metadata": {},
   "outputs": [
    {
     "data": {
      "text/plain": [
       "[7.6142148610598275,\n",
       " -1.1432981278390744,\n",
       " 22.31146408945546,\n",
       " 8.619872101441818,\n",
       " 13.425871609476173,\n",
       " 29.88031474650686,\n",
       " 6.949041067337522,\n",
       " -3.304006571788607,\n",
       " 24.64067208824469,\n",
       " 12.471258775250767,\n",
       " 1.1035816697403906,\n",
       " -2.6287726962745706]"
      ]
     },
     "execution_count": 262,
     "metadata": {},
     "output_type": "execute_result"
    }
   ],
   "source": [
    "coefs"
   ]
  },
  {
   "cell_type": "markdown",
   "metadata": {},
   "source": [
    "## Comparison with scikit learn"
   ]
  },
  {
   "cell_type": "code",
   "execution_count": 210,
   "metadata": {},
   "outputs": [
    {
     "name": "stdout",
     "output_type": "stream",
     "text": [
      "19.535552752925913\n",
      "[ 2.20655304e-02 -1.10609643e+00 -1.88336165e-01  8.17357745e-03\n",
      " -1.76877460e+00  3.33963795e-03 -3.60273580e-03 -1.55888592e+01\n",
      " -3.37284430e-01  8.09845987e-01  2.82003081e-01]\n"
     ]
    }
   ],
   "source": [
    "from sklearn.linear_model import LinearRegression\n",
    "\n",
    "# Create linear regression object.\n",
    "mlr= LinearRegression()\n",
    "\n",
    "# Fit linear regression.\n",
    "mlr.fit(train_x, train_y)\n",
    "\n",
    "# Get the slope and intercept of the line best fit.\n",
    "print(mlr.intercept_)\n",
    "# -244.92350252069903\n",
    "\n",
    "print(mlr.coef_)\n",
    "# [ 5.97694123 19.37771052]"
   ]
  },
  {
   "cell_type": "code",
   "execution_count": null,
   "metadata": {},
   "outputs": [],
   "source": []
  },
  {
   "cell_type": "code",
   "execution_count": null,
   "metadata": {},
   "outputs": [],
   "source": []
  },
  {
   "cell_type": "code",
   "execution_count": null,
   "metadata": {},
   "outputs": [],
   "source": []
  }
 ],
 "metadata": {
  "kernelspec": {
   "display_name": "Python 3",
   "language": "python",
   "name": "python3"
  },
  "language_info": {
   "codemirror_mode": {
    "name": "ipython",
    "version": 3
   },
   "file_extension": ".py",
   "mimetype": "text/x-python",
   "name": "python",
   "nbconvert_exporter": "python",
   "pygments_lexer": "ipython3",
   "version": "3.7.3"
  }
 },
 "nbformat": 4,
 "nbformat_minor": 2
}
