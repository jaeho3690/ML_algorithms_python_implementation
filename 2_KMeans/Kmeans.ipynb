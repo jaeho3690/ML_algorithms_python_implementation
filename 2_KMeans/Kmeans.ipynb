{
 "cells": [
  {
   "cell_type": "markdown",
   "metadata": {},
   "source": [
    "# K Means\n",
    "\n",
    "## Jaeho Kim (kjh3690@unist.ac.kr)"
   ]
  },
  {
   "cell_type": "code",
   "execution_count": 4,
   "metadata": {},
   "outputs": [],
   "source": [
    "import numpy as np\n",
    "import pandas as pd\n",
    "import matplotlib.pyplot as plt\n",
    "import os\n",
    "import sys"
   ]
  },
  {
   "cell_type": "code",
   "execution_count": 5,
   "metadata": {},
   "outputs": [],
   "source": [
    "df= pd.read_csv('./faithful.csv',index_col=0)"
   ]
  },
  {
   "cell_type": "code",
   "execution_count": 6,
   "metadata": {},
   "outputs": [
    {
     "data": {
      "text/html": [
       "<div>\n",
       "<style scoped>\n",
       "    .dataframe tbody tr th:only-of-type {\n",
       "        vertical-align: middle;\n",
       "    }\n",
       "\n",
       "    .dataframe tbody tr th {\n",
       "        vertical-align: top;\n",
       "    }\n",
       "\n",
       "    .dataframe thead th {\n",
       "        text-align: right;\n",
       "    }\n",
       "</style>\n",
       "<table border=\"1\" class=\"dataframe\">\n",
       "  <thead>\n",
       "    <tr style=\"text-align: right;\">\n",
       "      <th></th>\n",
       "      <th>eruptions</th>\n",
       "      <th>waiting</th>\n",
       "    </tr>\n",
       "  </thead>\n",
       "  <tbody>\n",
       "    <tr>\n",
       "      <th>1</th>\n",
       "      <td>3.600</td>\n",
       "      <td>79</td>\n",
       "    </tr>\n",
       "    <tr>\n",
       "      <th>2</th>\n",
       "      <td>1.800</td>\n",
       "      <td>54</td>\n",
       "    </tr>\n",
       "    <tr>\n",
       "      <th>3</th>\n",
       "      <td>3.333</td>\n",
       "      <td>74</td>\n",
       "    </tr>\n",
       "    <tr>\n",
       "      <th>4</th>\n",
       "      <td>2.283</td>\n",
       "      <td>62</td>\n",
       "    </tr>\n",
       "    <tr>\n",
       "      <th>5</th>\n",
       "      <td>4.533</td>\n",
       "      <td>85</td>\n",
       "    </tr>\n",
       "  </tbody>\n",
       "</table>\n",
       "</div>"
      ],
      "text/plain": [
       "   eruptions  waiting\n",
       "1      3.600       79\n",
       "2      1.800       54\n",
       "3      3.333       74\n",
       "4      2.283       62\n",
       "5      4.533       85"
      ]
     },
     "execution_count": 6,
     "metadata": {},
     "output_type": "execute_result"
    }
   ],
   "source": [
    "df.head()"
   ]
  },
  {
   "cell_type": "code",
   "execution_count": 27,
   "metadata": {},
   "outputs": [],
   "source": [
    "class Kmeans:\n",
    "    def __init__(self,K):\n",
    "        \"\"\"\n",
    "        k = Number of clusters\n",
    "        n = Number of data points\n",
    "        d = Number of features\n",
    "        mu = k x d array of Mu\n",
    "        \"\"\"\n",
    "        self.k= K\n",
    "        self.n= 0\n",
    "        self.d= 0\n",
    "        self.mu= np.array([K,self.d])\n",
    "\n",
    "        \n",
    "    def load_data(self,csv_path):\n",
    "        df= pd.read_csv(csv_path,index_col=0)\n",
    "        self.n,self.d= df.shape\n",
    "        return np.array(df)\n",
    "    \n",
    "    def calculate_euclidean(self,a,b):\n",
    "        return np.linalg.norm(a-b,axis=1)\n",
    "    \n",
    "    def distortion_measure(self,np_cluster,data,iteration):\n",
    "        \"\"\"Cost function of K means\n",
    "        \"\"\"\n",
    "        cost_j=0\n",
    "        for i in range(self.k):\n",
    "            cluster_i = np.where(np_cluster == i)\n",
    "            cost_j+=np.sum(self.calculate_euclidean(data[cluster_i],self.mu[i]))\n",
    "        print(\"COST at iteration {} is {} \".format(iteration,cost_j))\n",
    "        \n",
    "        return cost_j\n",
    "\n",
    "    def initialize_mu(self,data):\n",
    "        \"\"\" \n",
    "        \"\"\"\n",
    "        mu= np.empty([self.k, self.d])\n",
    " \n",
    "        for i in range(self.k):\n",
    "            random_row= np.random.randint(self.n)\n",
    "            mu[i]= data[random_row][:]\n",
    "        self.mu= mu\n",
    "            \n",
    "    def update_cluster(self, data):\n",
    "        np_cluster= np.empty(self.n)\n",
    "        for i in range(self.n):\n",
    "            np_cluster[i]= int(np.argmin(self.calculate_euclidean(self.mu,data[i])))\n",
    "        return np_cluster\n",
    "            \n",
    "    def update_mu(self,np_cluster,data):\n",
    "        for i in range(self.k):\n",
    "            cluster_i = np.where(np_cluster == i)\n",
    "            self.mu[i]= np.sum(data[cluster_i],axis=0)/len(data[cluster_i])\n",
    "    \n",
    "    def classify(self,array_x):\n",
    "        assert array_x.shape[1] == self.d\n",
    "        predict_class=[]\n",
    "        for i in range(array_x.shape[0]):\n",
    "            predict_class.append(np.argmin(self.calculate_euclidean(self.mu, array_x[i])))\n",
    "        \n",
    "        print(predict_class)\n",
    "        return predict_class\n",
    "        \n",
    "\n",
    "    def train(self, train_path):\n",
    "        \n",
    "        data= self.load_data(train_path)\n",
    "        self.initialize_mu(data)\n",
    "        \n",
    "        cost_decreased= True\n",
    "        cost_list= []\n",
    "        i=0\n",
    "        \n",
    "        while cost_decreased ==True:\n",
    "            \n",
    "            cluster = self.update_cluster(data)\n",
    "            mu = self.update_mu(cluster,data)\n",
    "            cost_list.append(self.distortion_measure(cluster,data,i))\n",
    "            \n",
    "            if i > 2:\n",
    "                if cost_list[i]-cost_list[i-1] <0.5:\n",
    "                    cost_decreased= False\n",
    "                    print(\"No more decrease in cost\")\n",
    "            i+=1\n",
    "        print(\" \")\n",
    "        print(\"=\"*40)\n",
    "        print(\"FINAL Mu is \")\n",
    "        print(self.mu)\n",
    "        print(\"=\"*40)\n",
    "        print(\"\")\n",
    "        print(cluster)\n",
    "        \n",
    "        \n",
    "    "
   ]
  },
  {
   "cell_type": "code",
   "execution_count": 28,
   "metadata": {},
   "outputs": [],
   "source": [
    "model= Kmeans(3)"
   ]
  },
  {
   "cell_type": "code",
   "execution_count": 29,
   "metadata": {},
   "outputs": [
    {
     "name": "stdout",
     "output_type": "stream",
     "text": [
      "COST at iteration 0 is 996.270616412667 \n",
      "COST at iteration 1 is 959.963736977936 \n",
      "COST at iteration 2 is 961.5598665568355 \n",
      "COST at iteration 3 is 961.5598665568355 \n",
      "No more decrease in cost\n",
      " \n",
      "========================================\n",
      "FINAL Mu is \n",
      "[[ 2.05673404 54.05319149]\n",
      " [ 4.37731522 84.48913043]\n",
      " [ 4.10036047 74.76744186]]\n",
      "========================================\n",
      "\n",
      "[2. 0. 2. 0. 1. 0. 1. 1. 0. 1. 0. 1. 2. 0. 1. 0. 0. 1. 0. 2. 0. 0. 2. 2.\n",
      " 2. 1. 0. 2. 2. 2. 2. 2. 2. 1. 2. 0. 0. 1. 0. 1. 1. 0. 1. 0. 2. 1. 0. 0.\n",
      " 1. 0. 2. 1. 0. 1. 0. 1. 2. 0. 2. 1. 0. 1. 0. 1. 0. 1. 2. 2. 2. 2. 1. 0.\n",
      " 2. 2. 0. 2. 0. 2. 2. 1. 2. 1. 2. 2. 2. 1. 2. 1. 0. 1. 0. 1. 0. 2. 0. 2.\n",
      " 1. 2. 0. 1. 0. 1. 0. 1. 1. 0. 1. 0. 1. 1. 2. 0. 1. 2. 0. 1. 0. 1. 0. 1.\n",
      " 0. 2. 2. 0. 1. 1. 0. 1. 0. 1. 0. 1. 0. 1. 0. 1. 0. 1. 0. 2. 1. 0. 1. 2.\n",
      " 2. 0. 1. 0. 1. 0. 2. 2. 2. 1. 2. 2. 1. 1. 0. 1. 0. 1. 0. 2. 2. 2. 0. 1.\n",
      " 0. 1. 0. 0. 2. 2. 1. 1. 2. 0. 1. 2. 0. 2. 1. 1. 0. 2. 1. 0. 1. 0. 1. 0.\n",
      " 2. 1. 2. 1. 1. 2. 0. 2. 0. 1. 1. 0. 2. 0. 2. 1. 0. 1. 2. 1. 0. 2. 0. 2.\n",
      " 0. 1. 0. 2. 0. 1. 0. 2. 2. 2. 2. 2. 2. 2. 2. 0. 1. 0. 1. 0. 0. 2. 2. 0.\n",
      " 2. 0. 1. 0. 1. 1. 0. 1. 2. 2. 0. 1. 2. 2. 1. 1. 2. 1. 0. 2. 2. 1. 0. 1.\n",
      " 0. 0. 2. 1. 0. 1. 0. 2.]\n"
     ]
    }
   ],
   "source": [
    "model.train('./faithful.csv')"
   ]
  },
  {
   "cell_type": "code",
   "execution_count": 30,
   "metadata": {},
   "outputs": [
    {
     "name": "stdout",
     "output_type": "stream",
     "text": [
      "[2]\n"
     ]
    },
    {
     "data": {
      "text/plain": [
       "[2]"
      ]
     },
     "execution_count": 30,
     "metadata": {},
     "output_type": "execute_result"
    }
   ],
   "source": [
    "model.classify(np.array([[3.6,70]]))"
   ]
  },
  {
   "cell_type": "code",
   "execution_count": null,
   "metadata": {},
   "outputs": [],
   "source": []
  },
  {
   "cell_type": "code",
   "execution_count": null,
   "metadata": {},
   "outputs": [],
   "source": []
  }
 ],
 "metadata": {
  "kernelspec": {
   "display_name": "Python 3",
   "language": "python",
   "name": "python3"
  },
  "language_info": {
   "codemirror_mode": {
    "name": "ipython",
    "version": 3
   },
   "file_extension": ".py",
   "mimetype": "text/x-python",
   "name": "python",
   "nbconvert_exporter": "python",
   "pygments_lexer": "ipython3",
   "version": "3.7.1"
  }
 },
 "nbformat": 4,
 "nbformat_minor": 4
}
