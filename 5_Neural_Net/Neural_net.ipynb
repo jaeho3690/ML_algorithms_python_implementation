{
 "cells": [
  {
   "cell_type": "code",
   "execution_count": 1,
   "metadata": {},
   "outputs": [],
   "source": [
    "import numpy as np\n",
    "import pandas as pd\n",
    "import matplotlib.pyplot as plt\n",
    "import os\n",
    "import sys\n",
    "import random\n",
    "\n",
    "from sklearn.preprocessing import MinMaxScaler"
   ]
  },
  {
   "cell_type": "code",
   "execution_count": 2,
   "metadata": {},
   "outputs": [],
   "source": [
    "df= pd.read_csv('./heart_disease_uci.csv')"
   ]
  },
  {
   "cell_type": "code",
   "execution_count": 3,
   "metadata": {},
   "outputs": [
    {
     "data": {
      "text/html": [
       "<div>\n",
       "<style scoped>\n",
       "    .dataframe tbody tr th:only-of-type {\n",
       "        vertical-align: middle;\n",
       "    }\n",
       "\n",
       "    .dataframe tbody tr th {\n",
       "        vertical-align: top;\n",
       "    }\n",
       "\n",
       "    .dataframe thead th {\n",
       "        text-align: right;\n",
       "    }\n",
       "</style>\n",
       "<table border=\"1\" class=\"dataframe\">\n",
       "  <thead>\n",
       "    <tr style=\"text-align: right;\">\n",
       "      <th></th>\n",
       "      <th>age</th>\n",
       "      <th>sex</th>\n",
       "      <th>cp</th>\n",
       "      <th>trestbps</th>\n",
       "      <th>chol</th>\n",
       "      <th>fbs</th>\n",
       "      <th>restecg</th>\n",
       "      <th>thalach</th>\n",
       "      <th>exang</th>\n",
       "      <th>oldpeak</th>\n",
       "      <th>slope</th>\n",
       "      <th>ca</th>\n",
       "      <th>thal</th>\n",
       "      <th>target</th>\n",
       "    </tr>\n",
       "  </thead>\n",
       "  <tbody>\n",
       "    <tr>\n",
       "      <th>0</th>\n",
       "      <td>63</td>\n",
       "      <td>1</td>\n",
       "      <td>3</td>\n",
       "      <td>145</td>\n",
       "      <td>233</td>\n",
       "      <td>1</td>\n",
       "      <td>0</td>\n",
       "      <td>150</td>\n",
       "      <td>0</td>\n",
       "      <td>2.3</td>\n",
       "      <td>0</td>\n",
       "      <td>0</td>\n",
       "      <td>1</td>\n",
       "      <td>1</td>\n",
       "    </tr>\n",
       "    <tr>\n",
       "      <th>1</th>\n",
       "      <td>37</td>\n",
       "      <td>1</td>\n",
       "      <td>2</td>\n",
       "      <td>130</td>\n",
       "      <td>250</td>\n",
       "      <td>0</td>\n",
       "      <td>1</td>\n",
       "      <td>187</td>\n",
       "      <td>0</td>\n",
       "      <td>3.5</td>\n",
       "      <td>0</td>\n",
       "      <td>0</td>\n",
       "      <td>2</td>\n",
       "      <td>1</td>\n",
       "    </tr>\n",
       "    <tr>\n",
       "      <th>2</th>\n",
       "      <td>41</td>\n",
       "      <td>0</td>\n",
       "      <td>1</td>\n",
       "      <td>130</td>\n",
       "      <td>204</td>\n",
       "      <td>0</td>\n",
       "      <td>0</td>\n",
       "      <td>172</td>\n",
       "      <td>0</td>\n",
       "      <td>1.4</td>\n",
       "      <td>2</td>\n",
       "      <td>0</td>\n",
       "      <td>2</td>\n",
       "      <td>1</td>\n",
       "    </tr>\n",
       "    <tr>\n",
       "      <th>3</th>\n",
       "      <td>56</td>\n",
       "      <td>1</td>\n",
       "      <td>1</td>\n",
       "      <td>120</td>\n",
       "      <td>236</td>\n",
       "      <td>0</td>\n",
       "      <td>1</td>\n",
       "      <td>178</td>\n",
       "      <td>0</td>\n",
       "      <td>0.8</td>\n",
       "      <td>2</td>\n",
       "      <td>0</td>\n",
       "      <td>2</td>\n",
       "      <td>1</td>\n",
       "    </tr>\n",
       "    <tr>\n",
       "      <th>4</th>\n",
       "      <td>57</td>\n",
       "      <td>0</td>\n",
       "      <td>0</td>\n",
       "      <td>120</td>\n",
       "      <td>354</td>\n",
       "      <td>0</td>\n",
       "      <td>1</td>\n",
       "      <td>163</td>\n",
       "      <td>1</td>\n",
       "      <td>0.6</td>\n",
       "      <td>2</td>\n",
       "      <td>0</td>\n",
       "      <td>2</td>\n",
       "      <td>1</td>\n",
       "    </tr>\n",
       "  </tbody>\n",
       "</table>\n",
       "</div>"
      ],
      "text/plain": [
       "   age  sex  cp  trestbps  chol  fbs  restecg  thalach  exang  oldpeak  slope  \\\n",
       "0   63    1   3       145   233    1        0      150      0      2.3      0   \n",
       "1   37    1   2       130   250    0        1      187      0      3.5      0   \n",
       "2   41    0   1       130   204    0        0      172      0      1.4      2   \n",
       "3   56    1   1       120   236    0        1      178      0      0.8      2   \n",
       "4   57    0   0       120   354    0        1      163      1      0.6      2   \n",
       "\n",
       "   ca  thal  target  \n",
       "0   0     1       1  \n",
       "1   0     2       1  \n",
       "2   0     2       1  \n",
       "3   0     2       1  \n",
       "4   0     2       1  "
      ]
     },
     "execution_count": 3,
     "metadata": {},
     "output_type": "execute_result"
    }
   ],
   "source": [
    "df.head()"
   ]
  },
  {
   "cell_type": "code",
   "execution_count": 233,
   "metadata": {},
   "outputs": [],
   "source": [
    "class NeuralNetwork():\n",
    "    \"\"\"2 Layer Neural Network Implementation\"\"\"\n",
    "    def __init__(self,X,y,iteration=1,learning_rate= 0.0001):\n",
    "\n",
    "        # Shuffle the input data\n",
    "        self.n, self.d = X.shape        \n",
    "        # Scale the input data into 0,1\n",
    "        scaler = MinMaxScaler()\n",
    "        X= scaler.fit_transform(X)\n",
    "        \n",
    "        # You do not have to shuffle the data as it is batch learning\n",
    "        # Shuffle only when SGD\n",
    "        self.X= X\n",
    "        self.y= y.reshape(self.n,1)\n",
    "        \n",
    "        self.iteration = 0\n",
    "        self.iteration_max= iteration\n",
    "        \n",
    "        self.learning_rate= learning_rate\n",
    "        self.loss_list =[]\n",
    "        \n",
    "    def __initialize_hidden_weight__(self,hidden_size=5):\n",
    "        \"\"\"\n",
    "        X.shape == n x D\n",
    "        y.shape == n x 1\n",
    "        W1.shape == D x h\n",
    "        b1.shape == h x 1\n",
    "        h1. shape == n x h\n",
    "        \n",
    "        W2.shape ==  h x 1\n",
    "        b2.shape == 1 x 1\n",
    "        Output.shape == n x 1\n",
    "        \n",
    "        \"\"\"\n",
    "        # weight and bias\n",
    "        self.W1= np.random.rand(self.d,hidden_size)\n",
    "        self.b1= np.random.rand(hidden_size,1)\n",
    "        \n",
    "        # weight ,bias and output\n",
    "        self.W2= np.random.rand(hidden_size,1)\n",
    "        self.b2= np.random.rand(1,1)\n",
    "        \n",
    "    def sigmoid(self,array):\n",
    "        return 1/(1+np.exp(-array))\n",
    "        \n",
    "        \n",
    "    def forward_pass(self):\n",
    "        # Vecotorizing function enables faster computation\n",
    "        sigmoid= np.vectorize(self.sigmoid)\n",
    "        \n",
    "        # first hidden layer\n",
    "        WX_1 = np.matmul(self.X,self.W1)\n",
    "        # we add by broadcasting b1\n",
    "        Z_1 = WX_1 + self.b1.T\n",
    "        self.h1= sigmoid(Z_1)\n",
    "\n",
    "   \n",
    "        # output layer\n",
    "        WX_2 = np.matmul(self.h1,self.W2)\n",
    "        Z_2 = WX_2 + self.b2\n",
    "        self.Output= sigmoid(Z_2)\n",
    "\n",
    "        \n",
    "    def backprop(self):\n",
    "        # 2nd layer backprop\n",
    "        error= self.Output-self.y\n",
    "        dl_dw_2 = np.matmul(self.h1.T,error)\n",
    "        dl_db_2 = error\n",
    "                \n",
    "        # 1st layer backprop\n",
    "        error_2 = np.matmul(error,self.W2.T) \n",
    "        h1_derivative= self.h1\n",
    "        dl_dw_1 = error_2\n",
    "\n",
    "        \n",
    "        \n",
    "        self.W2= self.W2 - self.learning_rate* dl_dw_2\n",
    "        self.b2= self.b2 - self.learning_rate* dl_db_2\n",
    "    \n",
    "    def bce_loss(self):\n",
    "        #Calculate Binary Cross Entropy\n",
    "        self.loss= -np.sum(np.multiply((1-self.y),np.log(1-self.Output)) + np.multiply(self.y,np.log(self.Output)))\n",
    "        self.loss_list.append(self.loss)\n",
    "        \n",
    "        print(\"==========loss at iteration {} is {}===========\".format(self.iteration,self.loss))\n",
    "        \n",
    "    def train(self):\n",
    "        self.__initialize_hidden_weight__()\n",
    "        for i in range(self.iteration_max):\n",
    "            self.forward_pass()\n",
    "            self.bce_loss()\n",
    "            self.backprop()\n",
    "            self.iteration +=1\n",
    "            \n",
    "        \n",
    "    \n",
    "        "
   ]
  },
  {
   "cell_type": "code",
   "execution_count": 234,
   "metadata": {},
   "outputs": [],
   "source": [
    "X= np.array(df.iloc[:,:-1])\n",
    "y= np.array(df.iloc[:,-1])"
   ]
  },
  {
   "cell_type": "code",
   "execution_count": 235,
   "metadata": {},
   "outputs": [],
   "source": [
    "model= NeuralNetwork(X,y)"
   ]
  },
  {
   "cell_type": "code",
   "execution_count": 236,
   "metadata": {},
   "outputs": [
    {
     "name": "stdout",
     "output_type": "stream",
     "text": [
      "==========loss at iteration 0 is 386.70901340353623===========\n",
      "(303, 5)\n"
     ]
    }
   ],
   "source": [
    "model.train()"
   ]
  },
  {
   "cell_type": "code",
   "execution_count": 206,
   "metadata": {},
   "outputs": [
    {
     "data": {
      "text/plain": [
       "numpy.ndarray"
      ]
     },
     "execution_count": 206,
     "metadata": {},
     "output_type": "execute_result"
    }
   ],
   "source": [
    "type(X)"
   ]
  },
  {
   "cell_type": "code",
   "execution_count": 51,
   "metadata": {},
   "outputs": [],
   "source": [
    "X_vec= np.vectorize(X)"
   ]
  },
  {
   "cell_type": "code",
   "execution_count": 52,
   "metadata": {},
   "outputs": [
    {
     "data": {
      "text/plain": [
       "<numpy.vectorize at 0x1132d9e48>"
      ]
     },
     "execution_count": 52,
     "metadata": {},
     "output_type": "execute_result"
    }
   ],
   "source": [
    "X_vec"
   ]
  },
  {
   "cell_type": "code",
   "execution_count": 231,
   "metadata": {},
   "outputs": [
    {
     "data": {
      "text/plain": [
       "array([[0.86939019],\n",
       "       [0.26278455],\n",
       "       [0.57598422],\n",
       "       [0.73652579],\n",
       "       [0.41424739],\n",
       "       [0.09171596],\n",
       "       [0.56012683],\n",
       "       [0.20220993],\n",
       "       [0.23575776],\n",
       "       [0.45312308]])"
      ]
     },
     "execution_count": 231,
     "metadata": {},
     "output_type": "execute_result"
    }
   ],
   "source": [
    "tr"
   ]
  },
  {
   "cell_type": "code",
   "execution_count": 232,
   "metadata": {},
   "outputs": [
    {
     "data": {
      "text/plain": [
       "array([[0.00434695],\n",
       "       [0.00131392],\n",
       "       [0.00287992],\n",
       "       [0.00368263],\n",
       "       [0.00207124],\n",
       "       [0.00045858],\n",
       "       [0.00280063],\n",
       "       [0.00101105],\n",
       "       [0.00117879],\n",
       "       [0.00226562]])"
      ]
     },
     "execution_count": 232,
     "metadata": {},
     "output_type": "execute_result"
    }
   ],
   "source": [
    "0.005 * tr"
   ]
  },
  {
   "cell_type": "code",
   "execution_count": null,
   "metadata": {},
   "outputs": [],
   "source": []
  }
 ],
 "metadata": {
  "kernelspec": {
   "display_name": "Python 3",
   "language": "python",
   "name": "python3"
  },
  "language_info": {
   "codemirror_mode": {
    "name": "ipython",
    "version": 3
   },
   "file_extension": ".py",
   "mimetype": "text/x-python",
   "name": "python",
   "nbconvert_exporter": "python",
   "pygments_lexer": "ipython3",
   "version": "3.7.1"
  }
 },
 "nbformat": 4,
 "nbformat_minor": 4
}
